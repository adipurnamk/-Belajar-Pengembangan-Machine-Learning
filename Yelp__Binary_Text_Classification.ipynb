{
  "nbformat": 4,
  "nbformat_minor": 0,
  "metadata": {
    "colab": {
      "name": "Yelp_ Binary Text Classification.ipynb",
      "provenance": [],
      "collapsed_sections": [],
      "authorship_tag": "ABX9TyPzPyXYRBtmRztx3ZG8sAII",
      "include_colab_link": true
    },
    "kernelspec": {
      "name": "python3",
      "display_name": "Python 3"
    }
  },
  "cells": [
    {
      "cell_type": "markdown",
      "metadata": {
        "id": "view-in-github",
        "colab_type": "text"
      },
      "source": [
        "<a href=\"https://colab.research.google.com/github/adipurnamk/Belajar-Pengembangan-Machine-Learning/blob/master/Yelp__Binary_Text_Classification.ipynb\" target=\"_parent\"><img src=\"https://colab.research.google.com/assets/colab-badge.svg\" alt=\"Open In Colab\"/></a>"
      ]
    },
    {
      "cell_type": "markdown",
      "metadata": {
        "id": "LghnxisYSrIy",
        "colab_type": "text"
      },
      "source": [
        "[Dataset](https://www.kaggle.com/marklvl/sentiment-labelled-sentences-data-set?)"
      ]
    },
    {
      "cell_type": "code",
      "metadata": {
        "id": "C4XpN0SnRpRY",
        "colab_type": "code",
        "colab": {
          "base_uri": "https://localhost:8080/",
          "height": 85
        },
        "outputId": "5fe3f275-bc23-41da-e0c2-d2d5a7b49a1c"
      },
      "source": [
        "# melakukan ekstraksi pada file zip\n",
        "import zipfile,os\n",
        "local_zip = '/content/22169_30047_bundle_archive.zip'\n",
        "zip_ref = zipfile.ZipFile(local_zip, 'r')\n",
        "zip_ref.extractall('/content')\n",
        "zip_ref.close()\n",
        "\n",
        "os.listdir('/content')"
      ],
      "execution_count": 1,
      "outputs": [
        {
          "output_type": "execute_result",
          "data": {
            "text/plain": [
              "['.config',\n",
              " 'sentiment labelled sentences',\n",
              " '22169_30047_bundle_archive.zip',\n",
              " 'sample_data']"
            ]
          },
          "metadata": {
            "tags": []
          },
          "execution_count": 1
        }
      ]
    },
    {
      "cell_type": "code",
      "metadata": {
        "id": "wzYIk17ORRfB",
        "colab_type": "code",
        "colab": {
          "base_uri": "https://localhost:8080/",
          "height": 419
        },
        "outputId": "43796f0e-0caa-4245-a5fb-acd389e03398"
      },
      "source": [
        "import pandas as pd\n",
        "df = pd.read_csv('/content/sentiment labelled sentences/yelp_labelled.txt', names=['sentence', 'label'], sep='\\t')\n",
        "df"
      ],
      "execution_count": 2,
      "outputs": [
        {
          "output_type": "execute_result",
          "data": {
            "text/html": [
              "<div>\n",
              "<style scoped>\n",
              "    .dataframe tbody tr th:only-of-type {\n",
              "        vertical-align: middle;\n",
              "    }\n",
              "\n",
              "    .dataframe tbody tr th {\n",
              "        vertical-align: top;\n",
              "    }\n",
              "\n",
              "    .dataframe thead th {\n",
              "        text-align: right;\n",
              "    }\n",
              "</style>\n",
              "<table border=\"1\" class=\"dataframe\">\n",
              "  <thead>\n",
              "    <tr style=\"text-align: right;\">\n",
              "      <th></th>\n",
              "      <th>sentence</th>\n",
              "      <th>label</th>\n",
              "    </tr>\n",
              "  </thead>\n",
              "  <tbody>\n",
              "    <tr>\n",
              "      <th>0</th>\n",
              "      <td>Wow... Loved this place.</td>\n",
              "      <td>1</td>\n",
              "    </tr>\n",
              "    <tr>\n",
              "      <th>1</th>\n",
              "      <td>Crust is not good.</td>\n",
              "      <td>0</td>\n",
              "    </tr>\n",
              "    <tr>\n",
              "      <th>2</th>\n",
              "      <td>Not tasty and the texture was just nasty.</td>\n",
              "      <td>0</td>\n",
              "    </tr>\n",
              "    <tr>\n",
              "      <th>3</th>\n",
              "      <td>Stopped by during the late May bank holiday of...</td>\n",
              "      <td>1</td>\n",
              "    </tr>\n",
              "    <tr>\n",
              "      <th>4</th>\n",
              "      <td>The selection on the menu was great and so wer...</td>\n",
              "      <td>1</td>\n",
              "    </tr>\n",
              "    <tr>\n",
              "      <th>...</th>\n",
              "      <td>...</td>\n",
              "      <td>...</td>\n",
              "    </tr>\n",
              "    <tr>\n",
              "      <th>995</th>\n",
              "      <td>I think food should have flavor and texture an...</td>\n",
              "      <td>0</td>\n",
              "    </tr>\n",
              "    <tr>\n",
              "      <th>996</th>\n",
              "      <td>Appetite instantly gone.</td>\n",
              "      <td>0</td>\n",
              "    </tr>\n",
              "    <tr>\n",
              "      <th>997</th>\n",
              "      <td>Overall I was not impressed and would not go b...</td>\n",
              "      <td>0</td>\n",
              "    </tr>\n",
              "    <tr>\n",
              "      <th>998</th>\n",
              "      <td>The whole experience was underwhelming, and I ...</td>\n",
              "      <td>0</td>\n",
              "    </tr>\n",
              "    <tr>\n",
              "      <th>999</th>\n",
              "      <td>Then, as if I hadn't wasted enough of my life ...</td>\n",
              "      <td>0</td>\n",
              "    </tr>\n",
              "  </tbody>\n",
              "</table>\n",
              "<p>1000 rows × 2 columns</p>\n",
              "</div>"
            ],
            "text/plain": [
              "                                              sentence  label\n",
              "0                             Wow... Loved this place.      1\n",
              "1                                   Crust is not good.      0\n",
              "2            Not tasty and the texture was just nasty.      0\n",
              "3    Stopped by during the late May bank holiday of...      1\n",
              "4    The selection on the menu was great and so wer...      1\n",
              "..                                                 ...    ...\n",
              "995  I think food should have flavor and texture an...      0\n",
              "996                           Appetite instantly gone.      0\n",
              "997  Overall I was not impressed and would not go b...      0\n",
              "998  The whole experience was underwhelming, and I ...      0\n",
              "999  Then, as if I hadn't wasted enough of my life ...      0\n",
              "\n",
              "[1000 rows x 2 columns]"
            ]
          },
          "metadata": {
            "tags": []
          },
          "execution_count": 2
        }
      ]
    },
    {
      "cell_type": "code",
      "metadata": {
        "id": "gwaOx0OfR_sG",
        "colab_type": "code",
        "colab": {
          "base_uri": "https://localhost:8080/",
          "height": 204
        },
        "outputId": "0ab1e147-f459-4902-fc9d-794b51532751"
      },
      "source": [
        "df.tail()"
      ],
      "execution_count": 3,
      "outputs": [
        {
          "output_type": "execute_result",
          "data": {
            "text/html": [
              "<div>\n",
              "<style scoped>\n",
              "    .dataframe tbody tr th:only-of-type {\n",
              "        vertical-align: middle;\n",
              "    }\n",
              "\n",
              "    .dataframe tbody tr th {\n",
              "        vertical-align: top;\n",
              "    }\n",
              "\n",
              "    .dataframe thead th {\n",
              "        text-align: right;\n",
              "    }\n",
              "</style>\n",
              "<table border=\"1\" class=\"dataframe\">\n",
              "  <thead>\n",
              "    <tr style=\"text-align: right;\">\n",
              "      <th></th>\n",
              "      <th>sentence</th>\n",
              "      <th>label</th>\n",
              "    </tr>\n",
              "  </thead>\n",
              "  <tbody>\n",
              "    <tr>\n",
              "      <th>995</th>\n",
              "      <td>I think food should have flavor and texture an...</td>\n",
              "      <td>0</td>\n",
              "    </tr>\n",
              "    <tr>\n",
              "      <th>996</th>\n",
              "      <td>Appetite instantly gone.</td>\n",
              "      <td>0</td>\n",
              "    </tr>\n",
              "    <tr>\n",
              "      <th>997</th>\n",
              "      <td>Overall I was not impressed and would not go b...</td>\n",
              "      <td>0</td>\n",
              "    </tr>\n",
              "    <tr>\n",
              "      <th>998</th>\n",
              "      <td>The whole experience was underwhelming, and I ...</td>\n",
              "      <td>0</td>\n",
              "    </tr>\n",
              "    <tr>\n",
              "      <th>999</th>\n",
              "      <td>Then, as if I hadn't wasted enough of my life ...</td>\n",
              "      <td>0</td>\n",
              "    </tr>\n",
              "  </tbody>\n",
              "</table>\n",
              "</div>"
            ],
            "text/plain": [
              "                                              sentence  label\n",
              "995  I think food should have flavor and texture an...      0\n",
              "996                           Appetite instantly gone.      0\n",
              "997  Overall I was not impressed and would not go b...      0\n",
              "998  The whole experience was underwhelming, and I ...      0\n",
              "999  Then, as if I hadn't wasted enough of my life ...      0"
            ]
          },
          "metadata": {
            "tags": []
          },
          "execution_count": 3
        }
      ]
    },
    {
      "cell_type": "code",
      "metadata": {
        "id": "dPleDK8WSAFk",
        "colab_type": "code",
        "colab": {}
      },
      "source": [
        "from sklearn.model_selection import train_test_split\n",
        "kalimat = df['sentence'].values\n",
        "y = df['label'].values\n",
        "kalimat_latih, kalimat_test, y_latih, y_test = train_test_split(kalimat, y, test_size=0.2)"
      ],
      "execution_count": 4,
      "outputs": []
    },
    {
      "cell_type": "code",
      "metadata": {
        "id": "DwqITKapSCBz",
        "colab_type": "code",
        "colab": {}
      },
      "source": [
        "from tensorflow.keras.preprocessing.text import Tokenizer\n",
        "from tensorflow.keras.preprocessing.sequence import pad_sequences\n",
        " \n",
        "tokenizer = Tokenizer(num_words=250, oov_token='x')\n",
        "tokenizer.fit_on_texts(kalimat_latih) \n",
        "tokenizer.fit_on_texts(kalimat_test)\n",
        " \n",
        "sekuens_latih = tokenizer.texts_to_sequences(kalimat_latih)\n",
        "sekuens_test = tokenizer.texts_to_sequences(kalimat_test)\n",
        " \n",
        "padded_latih = pad_sequences(sekuens_latih) \n",
        "padded_test = pad_sequences(sekuens_test)"
      ],
      "execution_count": 5,
      "outputs": []
    },
    {
      "cell_type": "markdown",
      "metadata": {
        "id": "HP6eQ7jlSNhE",
        "colab_type": "text"
      },
      "source": [
        "Untuk arsitektur yang akan digunakan adalah layer embedding, dengan argumen pertama sesuai dengan jumlah vocabulary/kata yang kita pakai pada tokenizer. Argumen selanjutnya adalah dimensi embedding, dan input_length yang merupakan panjang dari sequence. Nah di kita tidak menggunakan layer Flatten melainkan kita menggantinya dengan GlobalAveragePooling1D. Fungsi ini bekerja lebih baik pada kasus NLP dibanding Flatten."
      ]
    },
    {
      "cell_type": "code",
      "metadata": {
        "id": "OgwLL7maSGDT",
        "colab_type": "code",
        "colab": {}
      },
      "source": [
        "import tensorflow as tf\n",
        "model = tf.keras.Sequential([\n",
        "    tf.keras.layers.Embedding(250, 16, input_length=20),\n",
        "    tf.keras.layers.GlobalAveragePooling1D(),\n",
        "    tf.keras.layers.Dense(24, activation='relu'),\n",
        "    tf.keras.layers.Dense(1, activation='sigmoid')\n",
        "])\n",
        "model.compile(loss='binary_crossentropy',optimizer='adam',metrics=['accuracy'])"
      ],
      "execution_count": 6,
      "outputs": []
    },
    {
      "cell_type": "code",
      "metadata": {
        "id": "oXn6prDnSMGk",
        "colab_type": "code",
        "colab": {
          "base_uri": "https://localhost:8080/",
          "height": 1000
        },
        "outputId": "2290d17c-fc9c-4ee6-bd7e-869dd8bec81e"
      },
      "source": [
        "num_epochs = 30\n",
        "history = model.fit(padded_latih, y_latih, epochs=num_epochs, \n",
        "                    validation_data=(padded_test, y_test), verbose=2)"
      ],
      "execution_count": 7,
      "outputs": [
        {
          "output_type": "stream",
          "text": [
            "Epoch 1/30\n",
            "WARNING:tensorflow:Model was constructed with shape (None, 20) for input Tensor(\"embedding_input:0\", shape=(None, 20), dtype=float32), but it was called on an input with incompatible shape (32, 31).\n",
            "WARNING:tensorflow:Model was constructed with shape (None, 20) for input Tensor(\"embedding_input:0\", shape=(None, 20), dtype=float32), but it was called on an input with incompatible shape (32, 31).\n",
            "WARNING:tensorflow:Model was constructed with shape (None, 20) for input Tensor(\"embedding_input:0\", shape=(None, 20), dtype=float32), but it was called on an input with incompatible shape (None, 32).\n",
            "25/25 - 0s - loss: 0.6915 - accuracy: 0.5387 - val_loss: 0.6942 - val_accuracy: 0.4600\n",
            "Epoch 2/30\n",
            "25/25 - 0s - loss: 0.6893 - accuracy: 0.5462 - val_loss: 0.6954 - val_accuracy: 0.4600\n",
            "Epoch 3/30\n",
            "25/25 - 0s - loss: 0.6864 - accuracy: 0.5537 - val_loss: 0.6947 - val_accuracy: 0.4650\n",
            "Epoch 4/30\n",
            "25/25 - 0s - loss: 0.6821 - accuracy: 0.5962 - val_loss: 0.6901 - val_accuracy: 0.4800\n",
            "Epoch 5/30\n",
            "25/25 - 0s - loss: 0.6757 - accuracy: 0.6087 - val_loss: 0.6832 - val_accuracy: 0.4950\n",
            "Epoch 6/30\n",
            "25/25 - 0s - loss: 0.6664 - accuracy: 0.6225 - val_loss: 0.6746 - val_accuracy: 0.5250\n",
            "Epoch 7/30\n",
            "25/25 - 0s - loss: 0.6539 - accuracy: 0.6725 - val_loss: 0.6662 - val_accuracy: 0.5500\n",
            "Epoch 8/30\n",
            "25/25 - 0s - loss: 0.6367 - accuracy: 0.6875 - val_loss: 0.6538 - val_accuracy: 0.5700\n",
            "Epoch 9/30\n",
            "25/25 - 0s - loss: 0.6169 - accuracy: 0.6963 - val_loss: 0.6316 - val_accuracy: 0.6300\n",
            "Epoch 10/30\n",
            "25/25 - 0s - loss: 0.5928 - accuracy: 0.7538 - val_loss: 0.6161 - val_accuracy: 0.6250\n",
            "Epoch 11/30\n",
            "25/25 - 0s - loss: 0.5666 - accuracy: 0.7775 - val_loss: 0.6054 - val_accuracy: 0.6350\n",
            "Epoch 12/30\n",
            "25/25 - 0s - loss: 0.5397 - accuracy: 0.7875 - val_loss: 0.5741 - val_accuracy: 0.6800\n",
            "Epoch 13/30\n",
            "25/25 - 0s - loss: 0.5109 - accuracy: 0.8050 - val_loss: 0.5630 - val_accuracy: 0.6700\n",
            "Epoch 14/30\n",
            "25/25 - 0s - loss: 0.4856 - accuracy: 0.8138 - val_loss: 0.5446 - val_accuracy: 0.7100\n",
            "Epoch 15/30\n",
            "25/25 - 0s - loss: 0.4626 - accuracy: 0.8350 - val_loss: 0.5479 - val_accuracy: 0.6850\n",
            "Epoch 16/30\n",
            "25/25 - 0s - loss: 0.4396 - accuracy: 0.8238 - val_loss: 0.5114 - val_accuracy: 0.7450\n",
            "Epoch 17/30\n",
            "25/25 - 0s - loss: 0.4182 - accuracy: 0.8350 - val_loss: 0.4955 - val_accuracy: 0.7550\n",
            "Epoch 18/30\n",
            "25/25 - 0s - loss: 0.4014 - accuracy: 0.8425 - val_loss: 0.4995 - val_accuracy: 0.7500\n",
            "Epoch 19/30\n",
            "25/25 - 0s - loss: 0.3869 - accuracy: 0.8425 - val_loss: 0.4847 - val_accuracy: 0.7650\n",
            "Epoch 20/30\n",
            "25/25 - 0s - loss: 0.3729 - accuracy: 0.8525 - val_loss: 0.4918 - val_accuracy: 0.7400\n",
            "Epoch 21/30\n",
            "25/25 - 0s - loss: 0.3633 - accuracy: 0.8625 - val_loss: 0.5007 - val_accuracy: 0.7250\n",
            "Epoch 22/30\n",
            "25/25 - 0s - loss: 0.3473 - accuracy: 0.8600 - val_loss: 0.4545 - val_accuracy: 0.7900\n",
            "Epoch 23/30\n",
            "25/25 - 0s - loss: 0.3402 - accuracy: 0.8587 - val_loss: 0.4641 - val_accuracy: 0.7600\n",
            "Epoch 24/30\n",
            "25/25 - 0s - loss: 0.3307 - accuracy: 0.8612 - val_loss: 0.4791 - val_accuracy: 0.7500\n",
            "Epoch 25/30\n",
            "25/25 - 0s - loss: 0.3237 - accuracy: 0.8625 - val_loss: 0.4506 - val_accuracy: 0.7650\n",
            "Epoch 26/30\n",
            "25/25 - 0s - loss: 0.3193 - accuracy: 0.8662 - val_loss: 0.4423 - val_accuracy: 0.7900\n",
            "Epoch 27/30\n",
            "25/25 - 0s - loss: 0.3129 - accuracy: 0.8600 - val_loss: 0.4377 - val_accuracy: 0.7900\n",
            "Epoch 28/30\n",
            "25/25 - 0s - loss: 0.3096 - accuracy: 0.8625 - val_loss: 0.4414 - val_accuracy: 0.8050\n",
            "Epoch 29/30\n",
            "25/25 - 0s - loss: 0.2983 - accuracy: 0.8725 - val_loss: 0.4648 - val_accuracy: 0.7500\n",
            "Epoch 30/30\n",
            "25/25 - 0s - loss: 0.2949 - accuracy: 0.8775 - val_loss: 0.4393 - val_accuracy: 0.7950\n"
          ],
          "name": "stdout"
        }
      ]
    },
    {
      "cell_type": "code",
      "metadata": {
        "id": "6jy5cpclSSWE",
        "colab_type": "code",
        "colab": {}
      },
      "source": [
        ""
      ],
      "execution_count": 7,
      "outputs": []
    }
  ]
}