{
  "nbformat": 4,
  "nbformat_minor": 0,
  "metadata": {
    "colab": {
      "name": "Indo-IMDB_LSTM_ Multiclass Text Classification.ipynb",
      "provenance": [],
      "collapsed_sections": [],
      "authorship_tag": "ABX9TyNa4E/hEMOXxmO6tN9Oh2cy",
      "include_colab_link": true
    },
    "kernelspec": {
      "name": "python3",
      "display_name": "Python 3"
    }
  },
  "cells": [
    {
      "cell_type": "markdown",
      "metadata": {
        "id": "view-in-github",
        "colab_type": "text"
      },
      "source": [
        "<a href=\"https://colab.research.google.com/github/adipurnamk/Belajar-Pengembangan-Machine-Learning/blob/master/Indo_IMDB_LSTM__Multiclass_Text_Classification.ipynb\" target=\"_parent\"><img src=\"https://colab.research.google.com/assets/colab-badge.svg\" alt=\"Open In Colab\"/></a>"
      ]
    },
    {
      "cell_type": "markdown",
      "metadata": {
        "id": "LghnxisYSrIy",
        "colab_type": "text"
      },
      "source": [
        "[Dataset](https://www.kaggle.com/antoniuscs/imdb-synopsis-indonesian-movies)"
      ]
    },
    {
      "cell_type": "code",
      "metadata": {
        "id": "C4XpN0SnRpRY",
        "colab_type": "code",
        "colab": {
          "base_uri": "https://localhost:8080/",
          "height": 85
        },
        "outputId": "851b7e25-ba8d-4a3a-f80c-bd80295180d8"
      },
      "source": [
        "# melakukan ekstraksi pada file zip\n",
        "import zipfile,os\n",
        "local_zip = '/content/88471_203593_bundle_archive.zip'\n",
        "zip_ref = zipfile.ZipFile(local_zip, 'r')\n",
        "zip_ref.extractall('/content')\n",
        "zip_ref.close()\n",
        "\n",
        "os.listdir('/content')"
      ],
      "execution_count": 1,
      "outputs": [
        {
          "output_type": "execute_result",
          "data": {
            "text/plain": [
              "['.config',\n",
              " '88471_203593_bundle_archive.zip',\n",
              " 'imdb_indonesian_movies_2.csv',\n",
              " 'sample_data']"
            ]
          },
          "metadata": {
            "tags": []
          },
          "execution_count": 1
        }
      ]
    },
    {
      "cell_type": "code",
      "metadata": {
        "id": "wzYIk17ORRfB",
        "colab_type": "code",
        "colab": {
          "base_uri": "https://localhost:8080/",
          "height": 419
        },
        "outputId": "75a66c8d-8002-45f0-942b-75c22b4674e7"
      },
      "source": [
        "import pandas as pd\n",
        "df = pd.read_csv('/content/imdb_indonesian_movies_2.csv')\n",
        "df = df.drop(columns=['judul_film'])\n",
        "df"
      ],
      "execution_count": 3,
      "outputs": [
        {
          "output_type": "execute_result",
          "data": {
            "text/html": [
              "<div>\n",
              "<style scoped>\n",
              "    .dataframe tbody tr th:only-of-type {\n",
              "        vertical-align: middle;\n",
              "    }\n",
              "\n",
              "    .dataframe tbody tr th {\n",
              "        vertical-align: top;\n",
              "    }\n",
              "\n",
              "    .dataframe thead th {\n",
              "        text-align: right;\n",
              "    }\n",
              "</style>\n",
              "<table border=\"1\" class=\"dataframe\">\n",
              "  <thead>\n",
              "    <tr style=\"text-align: right;\">\n",
              "      <th></th>\n",
              "      <th>ringkasan_sinopsis</th>\n",
              "      <th>genre</th>\n",
              "    </tr>\n",
              "  </thead>\n",
              "  <tbody>\n",
              "    <tr>\n",
              "      <th>0</th>\n",
              "      <td>Raden Mas Said putra sulung Tumenggung Wilarik...</td>\n",
              "      <td>Drama</td>\n",
              "    </tr>\n",
              "    <tr>\n",
              "      <th>1</th>\n",
              "      <td>Soe Hok Gie adalah seorang aktivis yang hidup ...</td>\n",
              "      <td>Drama</td>\n",
              "    </tr>\n",
              "    <tr>\n",
              "      <th>2</th>\n",
              "      <td>Guru Bangsa Tjokroaminoto menceritakan tentang...</td>\n",
              "      <td>Drama</td>\n",
              "    </tr>\n",
              "    <tr>\n",
              "      <th>3</th>\n",
              "      <td>POL menceritakan kisah hidup yang luar biasa d...</td>\n",
              "      <td>Drama</td>\n",
              "    </tr>\n",
              "    <tr>\n",
              "      <th>4</th>\n",
              "      <td>Perjalanan pahlawan Indonesia KH Ahmad Dahlan ...</td>\n",
              "      <td>Drama</td>\n",
              "    </tr>\n",
              "    <tr>\n",
              "      <th>...</th>\n",
              "      <td>...</td>\n",
              "      <td>...</td>\n",
              "    </tr>\n",
              "    <tr>\n",
              "      <th>1000</th>\n",
              "      <td>Winter in Tokyo berpusat pada kehidupan Ishida...</td>\n",
              "      <td>Romantis</td>\n",
              "    </tr>\n",
              "    <tr>\n",
              "      <th>1001</th>\n",
              "      <td>Markonah melarikan diri ke Jakarta karena akan...</td>\n",
              "      <td>Romantis</td>\n",
              "    </tr>\n",
              "    <tr>\n",
              "      <th>1002</th>\n",
              "      <td>Tempat aking lebih dari 36 jam, Last Night ada...</td>\n",
              "      <td>Romantis</td>\n",
              "    </tr>\n",
              "    <tr>\n",
              "      <th>1003</th>\n",
              "      <td>Proyek baru ini adalah tentang seorang lelaki ...</td>\n",
              "      <td>Romantis</td>\n",
              "    </tr>\n",
              "    <tr>\n",
              "      <th>1004</th>\n",
              "      <td>Atika (Meriam Bellina) mantan penyanyi tenar, ...</td>\n",
              "      <td>Romantis</td>\n",
              "    </tr>\n",
              "  </tbody>\n",
              "</table>\n",
              "<p>1005 rows × 2 columns</p>\n",
              "</div>"
            ],
            "text/plain": [
              "                                     ringkasan_sinopsis     genre\n",
              "0     Raden Mas Said putra sulung Tumenggung Wilarik...     Drama\n",
              "1     Soe Hok Gie adalah seorang aktivis yang hidup ...     Drama\n",
              "2     Guru Bangsa Tjokroaminoto menceritakan tentang...     Drama\n",
              "3     POL menceritakan kisah hidup yang luar biasa d...     Drama\n",
              "4     Perjalanan pahlawan Indonesia KH Ahmad Dahlan ...     Drama\n",
              "...                                                 ...       ...\n",
              "1000  Winter in Tokyo berpusat pada kehidupan Ishida...  Romantis\n",
              "1001  Markonah melarikan diri ke Jakarta karena akan...  Romantis\n",
              "1002  Tempat aking lebih dari 36 jam, Last Night ada...  Romantis\n",
              "1003  Proyek baru ini adalah tentang seorang lelaki ...  Romantis\n",
              "1004  Atika (Meriam Bellina) mantan penyanyi tenar, ...  Romantis\n",
              "\n",
              "[1005 rows x 2 columns]"
            ]
          },
          "metadata": {
            "tags": []
          },
          "execution_count": 3
        }
      ]
    },
    {
      "cell_type": "code",
      "metadata": {
        "id": "elPOwROvU5MY",
        "colab_type": "code",
        "colab": {
          "base_uri": "https://localhost:8080/",
          "height": 419
        },
        "outputId": "37418e8d-3bae-4200-a130-90ffce48fd9e"
      },
      "source": [
        "# One-hot encoding\n",
        "\n",
        "category = pd.get_dummies(df.genre)\n",
        "df_baru = pd.concat([df, category], axis=1)\n",
        "df_baru = df_baru.drop(columns='genre')\n",
        "df_baru"
      ],
      "execution_count": 4,
      "outputs": [
        {
          "output_type": "execute_result",
          "data": {
            "text/html": [
              "<div>\n",
              "<style scoped>\n",
              "    .dataframe tbody tr th:only-of-type {\n",
              "        vertical-align: middle;\n",
              "    }\n",
              "\n",
              "    .dataframe tbody tr th {\n",
              "        vertical-align: top;\n",
              "    }\n",
              "\n",
              "    .dataframe thead th {\n",
              "        text-align: right;\n",
              "    }\n",
              "</style>\n",
              "<table border=\"1\" class=\"dataframe\">\n",
              "  <thead>\n",
              "    <tr style=\"text-align: right;\">\n",
              "      <th></th>\n",
              "      <th>ringkasan_sinopsis</th>\n",
              "      <th>Drama</th>\n",
              "      <th>Horor</th>\n",
              "      <th>Komedi</th>\n",
              "      <th>Laga</th>\n",
              "      <th>Romantis</th>\n",
              "    </tr>\n",
              "  </thead>\n",
              "  <tbody>\n",
              "    <tr>\n",
              "      <th>0</th>\n",
              "      <td>Raden Mas Said putra sulung Tumenggung Wilarik...</td>\n",
              "      <td>1</td>\n",
              "      <td>0</td>\n",
              "      <td>0</td>\n",
              "      <td>0</td>\n",
              "      <td>0</td>\n",
              "    </tr>\n",
              "    <tr>\n",
              "      <th>1</th>\n",
              "      <td>Soe Hok Gie adalah seorang aktivis yang hidup ...</td>\n",
              "      <td>1</td>\n",
              "      <td>0</td>\n",
              "      <td>0</td>\n",
              "      <td>0</td>\n",
              "      <td>0</td>\n",
              "    </tr>\n",
              "    <tr>\n",
              "      <th>2</th>\n",
              "      <td>Guru Bangsa Tjokroaminoto menceritakan tentang...</td>\n",
              "      <td>1</td>\n",
              "      <td>0</td>\n",
              "      <td>0</td>\n",
              "      <td>0</td>\n",
              "      <td>0</td>\n",
              "    </tr>\n",
              "    <tr>\n",
              "      <th>3</th>\n",
              "      <td>POL menceritakan kisah hidup yang luar biasa d...</td>\n",
              "      <td>1</td>\n",
              "      <td>0</td>\n",
              "      <td>0</td>\n",
              "      <td>0</td>\n",
              "      <td>0</td>\n",
              "    </tr>\n",
              "    <tr>\n",
              "      <th>4</th>\n",
              "      <td>Perjalanan pahlawan Indonesia KH Ahmad Dahlan ...</td>\n",
              "      <td>1</td>\n",
              "      <td>0</td>\n",
              "      <td>0</td>\n",
              "      <td>0</td>\n",
              "      <td>0</td>\n",
              "    </tr>\n",
              "    <tr>\n",
              "      <th>...</th>\n",
              "      <td>...</td>\n",
              "      <td>...</td>\n",
              "      <td>...</td>\n",
              "      <td>...</td>\n",
              "      <td>...</td>\n",
              "      <td>...</td>\n",
              "    </tr>\n",
              "    <tr>\n",
              "      <th>1000</th>\n",
              "      <td>Winter in Tokyo berpusat pada kehidupan Ishida...</td>\n",
              "      <td>0</td>\n",
              "      <td>0</td>\n",
              "      <td>0</td>\n",
              "      <td>0</td>\n",
              "      <td>1</td>\n",
              "    </tr>\n",
              "    <tr>\n",
              "      <th>1001</th>\n",
              "      <td>Markonah melarikan diri ke Jakarta karena akan...</td>\n",
              "      <td>0</td>\n",
              "      <td>0</td>\n",
              "      <td>0</td>\n",
              "      <td>0</td>\n",
              "      <td>1</td>\n",
              "    </tr>\n",
              "    <tr>\n",
              "      <th>1002</th>\n",
              "      <td>Tempat aking lebih dari 36 jam, Last Night ada...</td>\n",
              "      <td>0</td>\n",
              "      <td>0</td>\n",
              "      <td>0</td>\n",
              "      <td>0</td>\n",
              "      <td>1</td>\n",
              "    </tr>\n",
              "    <tr>\n",
              "      <th>1003</th>\n",
              "      <td>Proyek baru ini adalah tentang seorang lelaki ...</td>\n",
              "      <td>0</td>\n",
              "      <td>0</td>\n",
              "      <td>0</td>\n",
              "      <td>0</td>\n",
              "      <td>1</td>\n",
              "    </tr>\n",
              "    <tr>\n",
              "      <th>1004</th>\n",
              "      <td>Atika (Meriam Bellina) mantan penyanyi tenar, ...</td>\n",
              "      <td>0</td>\n",
              "      <td>0</td>\n",
              "      <td>0</td>\n",
              "      <td>0</td>\n",
              "      <td>1</td>\n",
              "    </tr>\n",
              "  </tbody>\n",
              "</table>\n",
              "<p>1005 rows × 6 columns</p>\n",
              "</div>"
            ],
            "text/plain": [
              "                                     ringkasan_sinopsis  Drama  ...  Laga  Romantis\n",
              "0     Raden Mas Said putra sulung Tumenggung Wilarik...      1  ...     0         0\n",
              "1     Soe Hok Gie adalah seorang aktivis yang hidup ...      1  ...     0         0\n",
              "2     Guru Bangsa Tjokroaminoto menceritakan tentang...      1  ...     0         0\n",
              "3     POL menceritakan kisah hidup yang luar biasa d...      1  ...     0         0\n",
              "4     Perjalanan pahlawan Indonesia KH Ahmad Dahlan ...      1  ...     0         0\n",
              "...                                                 ...    ...  ...   ...       ...\n",
              "1000  Winter in Tokyo berpusat pada kehidupan Ishida...      0  ...     0         1\n",
              "1001  Markonah melarikan diri ke Jakarta karena akan...      0  ...     0         1\n",
              "1002  Tempat aking lebih dari 36 jam, Last Night ada...      0  ...     0         1\n",
              "1003  Proyek baru ini adalah tentang seorang lelaki ...      0  ...     0         1\n",
              "1004  Atika (Meriam Bellina) mantan penyanyi tenar, ...      0  ...     0         1\n",
              "\n",
              "[1005 rows x 6 columns]"
            ]
          },
          "metadata": {
            "tags": []
          },
          "execution_count": 4
        }
      ]
    },
    {
      "cell_type": "markdown",
      "metadata": {
        "id": "fGZYcM2DVMQl",
        "colab_type": "text"
      },
      "source": [
        "Agar dapat diproses oleh model, kita perlu mengubah nilai-nilai dari dataframe ke dalam tipe data numpy array menggunakan atribut values."
      ]
    },
    {
      "cell_type": "code",
      "metadata": {
        "id": "6jy5cpclSSWE",
        "colab_type": "code",
        "colab": {}
      },
      "source": [
        "sinopsis = df_baru['ringkasan_sinopsis'].values\n",
        "label = df_baru[['Drama', 'Horor', 'Komedi', 'Laga', 'Romantis']].values"
      ],
      "execution_count": 5,
      "outputs": []
    },
    {
      "cell_type": "code",
      "metadata": {
        "id": "DRhbvfTnVKFT",
        "colab_type": "code",
        "colab": {}
      },
      "source": [
        "from sklearn.model_selection import train_test_split\n",
        "sinopsis_latih, sinopsis_test, label_latih, label_test = train_test_split(sinopsis, label, test_size=0.2)"
      ],
      "execution_count": 6,
      "outputs": []
    },
    {
      "cell_type": "code",
      "metadata": {
        "id": "x_PjRfyEVPYm",
        "colab_type": "code",
        "colab": {}
      },
      "source": [
        "from tensorflow.keras.preprocessing.text import Tokenizer\n",
        "from tensorflow.keras.preprocessing.sequence import pad_sequences\n",
        " \n",
        "tokenizer = Tokenizer(num_words=5000, oov_token='x')\n",
        "tokenizer.fit_on_texts(sinopsis_latih) \n",
        "tokenizer.fit_on_texts(sinopsis_test)\n",
        " \n",
        "sekuens_latih = tokenizer.texts_to_sequences(sinopsis_latih)\n",
        "sekuens_test = tokenizer.texts_to_sequences(sinopsis_test)\n",
        " \n",
        "padded_latih = pad_sequences(sekuens_latih) \n",
        "padded_test = pad_sequences(sekuens_test)"
      ],
      "execution_count": 7,
      "outputs": []
    },
    {
      "cell_type": "code",
      "metadata": {
        "id": "z-_8iTUOVSbE",
        "colab_type": "code",
        "colab": {}
      },
      "source": [
        "import tensorflow as tf\n",
        "model = tf.keras.Sequential([\n",
        "    tf.keras.layers.Embedding(input_dim=5000, output_dim=16),\n",
        "    tf.keras.layers.LSTM(64),\n",
        "    tf.keras.layers.Dense(128, activation='relu'),\n",
        "    tf.keras.layers.Dense(64, activation='relu'),\n",
        "    tf.keras.layers.Dense(5, activation='softmax')\n",
        "])\n",
        "model.compile(loss='categorical_crossentropy',optimizer='adam',metrics=['accuracy'])"
      ],
      "execution_count": 8,
      "outputs": []
    },
    {
      "cell_type": "code",
      "metadata": {
        "id": "1hB0vIw2VYz8",
        "colab_type": "code",
        "colab": {
          "base_uri": "https://localhost:8080/",
          "height": 1000
        },
        "outputId": "6d36e83d-59d4-46cc-b58b-a7e0b3aabca5"
      },
      "source": [
        "num_epochs = 30\n",
        "history = model.fit(padded_latih, label_latih, epochs=num_epochs, \n",
        "                    validation_data=(padded_test, label_test), verbose=2)"
      ],
      "execution_count": 9,
      "outputs": [
        {
          "output_type": "stream",
          "text": [
            "Epoch 1/30\n",
            "26/26 - 25s - loss: 1.6102 - accuracy: 0.1816 - val_loss: 1.6110 - val_accuracy: 0.1592\n",
            "Epoch 2/30\n",
            "26/26 - 27s - loss: 1.6082 - accuracy: 0.2388 - val_loss: 1.6109 - val_accuracy: 0.1692\n",
            "Epoch 3/30\n",
            "26/26 - 27s - loss: 1.6055 - accuracy: 0.3371 - val_loss: 1.6139 - val_accuracy: 0.2090\n",
            "Epoch 4/30\n",
            "26/26 - 27s - loss: 1.4839 - accuracy: 0.4192 - val_loss: 1.5969 - val_accuracy: 0.2040\n",
            "Epoch 5/30\n",
            "26/26 - 27s - loss: 1.1131 - accuracy: 0.6045 - val_loss: 1.6948 - val_accuracy: 0.1990\n",
            "Epoch 6/30\n",
            "26/26 - 27s - loss: 0.7714 - accuracy: 0.7351 - val_loss: 2.0703 - val_accuracy: 0.2637\n",
            "Epoch 7/30\n",
            "26/26 - 27s - loss: 0.3577 - accuracy: 0.8856 - val_loss: 2.7873 - val_accuracy: 0.2687\n",
            "Epoch 8/30\n",
            "26/26 - 27s - loss: 0.1490 - accuracy: 0.9664 - val_loss: 3.5280 - val_accuracy: 0.2736\n",
            "Epoch 9/30\n",
            "26/26 - 27s - loss: 0.0968 - accuracy: 0.9826 - val_loss: 3.8282 - val_accuracy: 0.2488\n",
            "Epoch 10/30\n",
            "26/26 - 27s - loss: 0.0349 - accuracy: 0.9938 - val_loss: 4.3460 - val_accuracy: 0.2587\n",
            "Epoch 11/30\n",
            "26/26 - 27s - loss: 0.0279 - accuracy: 0.9950 - val_loss: 4.3115 - val_accuracy: 0.2388\n",
            "Epoch 12/30\n",
            "26/26 - 27s - loss: 0.0198 - accuracy: 0.9963 - val_loss: 4.5723 - val_accuracy: 0.2587\n",
            "Epoch 13/30\n",
            "26/26 - 27s - loss: 0.0165 - accuracy: 0.9963 - val_loss: 4.5017 - val_accuracy: 0.2537\n",
            "Epoch 14/30\n",
            "26/26 - 27s - loss: 0.0181 - accuracy: 0.9975 - val_loss: 4.7303 - val_accuracy: 0.2736\n",
            "Epoch 15/30\n",
            "26/26 - 27s - loss: 0.0163 - accuracy: 0.9963 - val_loss: 4.9122 - val_accuracy: 0.2388\n",
            "Epoch 16/30\n",
            "26/26 - 27s - loss: 0.0153 - accuracy: 0.9950 - val_loss: 4.7408 - val_accuracy: 0.2239\n",
            "Epoch 17/30\n",
            "26/26 - 27s - loss: 0.0097 - accuracy: 0.9975 - val_loss: 5.2363 - val_accuracy: 0.2687\n",
            "Epoch 18/30\n",
            "26/26 - 27s - loss: 0.0095 - accuracy: 0.9988 - val_loss: 5.4034 - val_accuracy: 0.2637\n",
            "Epoch 19/30\n",
            "26/26 - 27s - loss: 0.0101 - accuracy: 0.9988 - val_loss: 5.1093 - val_accuracy: 0.2537\n",
            "Epoch 20/30\n",
            "26/26 - 28s - loss: 0.0120 - accuracy: 0.9988 - val_loss: 5.6022 - val_accuracy: 0.2388\n",
            "Epoch 21/30\n",
            "26/26 - 27s - loss: 0.0081 - accuracy: 0.9988 - val_loss: 5.5113 - val_accuracy: 0.2338\n",
            "Epoch 22/30\n",
            "26/26 - 27s - loss: 0.0062 - accuracy: 0.9988 - val_loss: 5.3824 - val_accuracy: 0.2537\n",
            "Epoch 23/30\n",
            "26/26 - 27s - loss: 0.0128 - accuracy: 0.9975 - val_loss: 5.4133 - val_accuracy: 0.2438\n",
            "Epoch 24/30\n",
            "26/26 - 27s - loss: 0.0130 - accuracy: 0.9975 - val_loss: 5.4595 - val_accuracy: 0.2736\n",
            "Epoch 25/30\n",
            "26/26 - 27s - loss: 0.0050 - accuracy: 0.9988 - val_loss: 5.8234 - val_accuracy: 0.2537\n",
            "Epoch 26/30\n",
            "26/26 - 27s - loss: 0.0057 - accuracy: 0.9988 - val_loss: 6.3157 - val_accuracy: 0.2537\n",
            "Epoch 27/30\n",
            "26/26 - 27s - loss: 0.2865 - accuracy: 0.9117 - val_loss: 3.0343 - val_accuracy: 0.2488\n",
            "Epoch 28/30\n",
            "26/26 - 27s - loss: 0.1337 - accuracy: 0.9664 - val_loss: 3.5593 - val_accuracy: 0.2438\n",
            "Epoch 29/30\n",
            "26/26 - 28s - loss: 0.0417 - accuracy: 0.9913 - val_loss: 4.2569 - val_accuracy: 0.2338\n",
            "Epoch 30/30\n",
            "26/26 - 28s - loss: 0.0172 - accuracy: 0.9975 - val_loss: 4.5109 - val_accuracy: 0.2239\n"
          ],
          "name": "stdout"
        }
      ]
    },
    {
      "cell_type": "code",
      "metadata": {
        "id": "ePm3qt9jVagU",
        "colab_type": "code",
        "colab": {}
      },
      "source": [
        ""
      ],
      "execution_count": null,
      "outputs": []
    }
  ]
}