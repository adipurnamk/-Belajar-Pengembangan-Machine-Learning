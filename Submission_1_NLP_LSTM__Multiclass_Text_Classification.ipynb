{
  "nbformat": 4,
  "nbformat_minor": 0,
  "metadata": {
    "colab": {
      "name": "Submission 1 : NLP_LSTM_ Multiclass Text Classification.ipynb",
      "provenance": [],
      "collapsed_sections": [],
      "authorship_tag": "ABX9TyNCLc5eZE3wfhnkdaDbwGvj",
      "include_colab_link": true
    },
    "kernelspec": {
      "name": "python3",
      "display_name": "Python 3"
    }
  },
  "cells": [
    {
      "cell_type": "markdown",
      "metadata": {
        "id": "view-in-github",
        "colab_type": "text"
      },
      "source": [
        "<a href=\"https://colab.research.google.com/github/adipurnamk/Belajar-Pengembangan-Machine-Learning/blob/master/Submission_1_NLP_LSTM__Multiclass_Text_Classification.ipynb\" target=\"_parent\"><img src=\"https://colab.research.google.com/assets/colab-badge.svg\" alt=\"Open In Colab\"/></a>"
      ]
    },
    {
      "cell_type": "markdown",
      "metadata": {
        "id": "LghnxisYSrIy",
        "colab_type": "text"
      },
      "source": [
        "[Dataset](https://storage.googleapis.com/dataset-uploader/bbc/bbc-text.csv)"
      ]
    },
    {
      "cell_type": "code",
      "metadata": {
        "id": "z9y1SfirWcth",
        "colab_type": "code",
        "colab": {
          "base_uri": "https://localhost:8080/",
          "height": 204
        },
        "outputId": "4c8ff183-ba8e-42a4-88a2-37f2e5cce026"
      },
      "source": [
        "!wget --no-check-certificate \\\n",
        "  https://storage.googleapis.com/dataset-uploader/bbc/bbc-text.csv \\\n",
        "  -O /tmp/bbc-text.csv"
      ],
      "execution_count": 1,
      "outputs": [
        {
          "output_type": "stream",
          "text": [
            "--2020-09-17 05:27:54--  https://storage.googleapis.com/dataset-uploader/bbc/bbc-text.csv\n",
            "Resolving storage.googleapis.com (storage.googleapis.com)... 173.194.195.128, 209.85.145.128, 74.125.124.128, ...\n",
            "Connecting to storage.googleapis.com (storage.googleapis.com)|173.194.195.128|:443... connected.\n",
            "HTTP request sent, awaiting response... 200 OK\n",
            "Length: 5057493 (4.8M) [text/csv]\n",
            "Saving to: ‘/tmp/bbc-text.csv’\n",
            "\n",
            "\r/tmp/bbc-text.csv     0%[                    ]       0  --.-KB/s               \r/tmp/bbc-text.csv   100%[===================>]   4.82M  --.-KB/s    in 0.04s   \n",
            "\n",
            "2020-09-17 05:27:54 (129 MB/s) - ‘/tmp/bbc-text.csv’ saved [5057493/5057493]\n",
            "\n"
          ],
          "name": "stdout"
        }
      ]
    },
    {
      "cell_type": "code",
      "metadata": {
        "id": "wzYIk17ORRfB",
        "colab_type": "code",
        "colab": {
          "base_uri": "https://localhost:8080/",
          "height": 419
        },
        "outputId": "9a588542-e71e-4f3b-b455-5ea4a7efdc50"
      },
      "source": [
        "import pandas as pd\n",
        "df = pd.read_csv('/tmp/bbc-text.csv')\n",
        "df"
      ],
      "execution_count": 2,
      "outputs": [
        {
          "output_type": "execute_result",
          "data": {
            "text/html": [
              "<div>\n",
              "<style scoped>\n",
              "    .dataframe tbody tr th:only-of-type {\n",
              "        vertical-align: middle;\n",
              "    }\n",
              "\n",
              "    .dataframe tbody tr th {\n",
              "        vertical-align: top;\n",
              "    }\n",
              "\n",
              "    .dataframe thead th {\n",
              "        text-align: right;\n",
              "    }\n",
              "</style>\n",
              "<table border=\"1\" class=\"dataframe\">\n",
              "  <thead>\n",
              "    <tr style=\"text-align: right;\">\n",
              "      <th></th>\n",
              "      <th>category</th>\n",
              "      <th>text</th>\n",
              "    </tr>\n",
              "  </thead>\n",
              "  <tbody>\n",
              "    <tr>\n",
              "      <th>0</th>\n",
              "      <td>tech</td>\n",
              "      <td>tv future in the hands of viewers with home th...</td>\n",
              "    </tr>\n",
              "    <tr>\n",
              "      <th>1</th>\n",
              "      <td>business</td>\n",
              "      <td>worldcom boss  left books alone  former worldc...</td>\n",
              "    </tr>\n",
              "    <tr>\n",
              "      <th>2</th>\n",
              "      <td>sport</td>\n",
              "      <td>tigers wary of farrell  gamble  leicester say ...</td>\n",
              "    </tr>\n",
              "    <tr>\n",
              "      <th>3</th>\n",
              "      <td>sport</td>\n",
              "      <td>yeading face newcastle in fa cup premiership s...</td>\n",
              "    </tr>\n",
              "    <tr>\n",
              "      <th>4</th>\n",
              "      <td>entertainment</td>\n",
              "      <td>ocean s twelve raids box office ocean s twelve...</td>\n",
              "    </tr>\n",
              "    <tr>\n",
              "      <th>...</th>\n",
              "      <td>...</td>\n",
              "      <td>...</td>\n",
              "    </tr>\n",
              "    <tr>\n",
              "      <th>2220</th>\n",
              "      <td>business</td>\n",
              "      <td>cars pull down us retail figures us retail sal...</td>\n",
              "    </tr>\n",
              "    <tr>\n",
              "      <th>2221</th>\n",
              "      <td>politics</td>\n",
              "      <td>kilroy unveils immigration policy ex-chatshow ...</td>\n",
              "    </tr>\n",
              "    <tr>\n",
              "      <th>2222</th>\n",
              "      <td>entertainment</td>\n",
              "      <td>rem announce new glasgow concert us band rem h...</td>\n",
              "    </tr>\n",
              "    <tr>\n",
              "      <th>2223</th>\n",
              "      <td>politics</td>\n",
              "      <td>how political squabbles snowball it s become c...</td>\n",
              "    </tr>\n",
              "    <tr>\n",
              "      <th>2224</th>\n",
              "      <td>sport</td>\n",
              "      <td>souness delight at euro progress boss graeme s...</td>\n",
              "    </tr>\n",
              "  </tbody>\n",
              "</table>\n",
              "<p>2225 rows × 2 columns</p>\n",
              "</div>"
            ],
            "text/plain": [
              "           category                                               text\n",
              "0              tech  tv future in the hands of viewers with home th...\n",
              "1          business  worldcom boss  left books alone  former worldc...\n",
              "2             sport  tigers wary of farrell  gamble  leicester say ...\n",
              "3             sport  yeading face newcastle in fa cup premiership s...\n",
              "4     entertainment  ocean s twelve raids box office ocean s twelve...\n",
              "...             ...                                                ...\n",
              "2220       business  cars pull down us retail figures us retail sal...\n",
              "2221       politics  kilroy unveils immigration policy ex-chatshow ...\n",
              "2222  entertainment  rem announce new glasgow concert us band rem h...\n",
              "2223       politics  how political squabbles snowball it s become c...\n",
              "2224          sport  souness delight at euro progress boss graeme s...\n",
              "\n",
              "[2225 rows x 2 columns]"
            ]
          },
          "metadata": {
            "tags": []
          },
          "execution_count": 2
        }
      ]
    },
    {
      "cell_type": "code",
      "metadata": {
        "id": "elPOwROvU5MY",
        "colab_type": "code",
        "colab": {
          "base_uri": "https://localhost:8080/",
          "height": 419
        },
        "outputId": "a8b6da72-7ef7-462f-ac59-0bc79186ca8c"
      },
      "source": [
        "# One-hot encoding\n",
        "\n",
        "category = pd.get_dummies(df.category)\n",
        "df_baru = pd.concat([df, category], axis=1)\n",
        "df_baru = df_baru.drop(columns='category')\n",
        "df_baru"
      ],
      "execution_count": 3,
      "outputs": [
        {
          "output_type": "execute_result",
          "data": {
            "text/html": [
              "<div>\n",
              "<style scoped>\n",
              "    .dataframe tbody tr th:only-of-type {\n",
              "        vertical-align: middle;\n",
              "    }\n",
              "\n",
              "    .dataframe tbody tr th {\n",
              "        vertical-align: top;\n",
              "    }\n",
              "\n",
              "    .dataframe thead th {\n",
              "        text-align: right;\n",
              "    }\n",
              "</style>\n",
              "<table border=\"1\" class=\"dataframe\">\n",
              "  <thead>\n",
              "    <tr style=\"text-align: right;\">\n",
              "      <th></th>\n",
              "      <th>text</th>\n",
              "      <th>business</th>\n",
              "      <th>entertainment</th>\n",
              "      <th>politics</th>\n",
              "      <th>sport</th>\n",
              "      <th>tech</th>\n",
              "    </tr>\n",
              "  </thead>\n",
              "  <tbody>\n",
              "    <tr>\n",
              "      <th>0</th>\n",
              "      <td>tv future in the hands of viewers with home th...</td>\n",
              "      <td>0</td>\n",
              "      <td>0</td>\n",
              "      <td>0</td>\n",
              "      <td>0</td>\n",
              "      <td>1</td>\n",
              "    </tr>\n",
              "    <tr>\n",
              "      <th>1</th>\n",
              "      <td>worldcom boss  left books alone  former worldc...</td>\n",
              "      <td>1</td>\n",
              "      <td>0</td>\n",
              "      <td>0</td>\n",
              "      <td>0</td>\n",
              "      <td>0</td>\n",
              "    </tr>\n",
              "    <tr>\n",
              "      <th>2</th>\n",
              "      <td>tigers wary of farrell  gamble  leicester say ...</td>\n",
              "      <td>0</td>\n",
              "      <td>0</td>\n",
              "      <td>0</td>\n",
              "      <td>1</td>\n",
              "      <td>0</td>\n",
              "    </tr>\n",
              "    <tr>\n",
              "      <th>3</th>\n",
              "      <td>yeading face newcastle in fa cup premiership s...</td>\n",
              "      <td>0</td>\n",
              "      <td>0</td>\n",
              "      <td>0</td>\n",
              "      <td>1</td>\n",
              "      <td>0</td>\n",
              "    </tr>\n",
              "    <tr>\n",
              "      <th>4</th>\n",
              "      <td>ocean s twelve raids box office ocean s twelve...</td>\n",
              "      <td>0</td>\n",
              "      <td>1</td>\n",
              "      <td>0</td>\n",
              "      <td>0</td>\n",
              "      <td>0</td>\n",
              "    </tr>\n",
              "    <tr>\n",
              "      <th>...</th>\n",
              "      <td>...</td>\n",
              "      <td>...</td>\n",
              "      <td>...</td>\n",
              "      <td>...</td>\n",
              "      <td>...</td>\n",
              "      <td>...</td>\n",
              "    </tr>\n",
              "    <tr>\n",
              "      <th>2220</th>\n",
              "      <td>cars pull down us retail figures us retail sal...</td>\n",
              "      <td>1</td>\n",
              "      <td>0</td>\n",
              "      <td>0</td>\n",
              "      <td>0</td>\n",
              "      <td>0</td>\n",
              "    </tr>\n",
              "    <tr>\n",
              "      <th>2221</th>\n",
              "      <td>kilroy unveils immigration policy ex-chatshow ...</td>\n",
              "      <td>0</td>\n",
              "      <td>0</td>\n",
              "      <td>1</td>\n",
              "      <td>0</td>\n",
              "      <td>0</td>\n",
              "    </tr>\n",
              "    <tr>\n",
              "      <th>2222</th>\n",
              "      <td>rem announce new glasgow concert us band rem h...</td>\n",
              "      <td>0</td>\n",
              "      <td>1</td>\n",
              "      <td>0</td>\n",
              "      <td>0</td>\n",
              "      <td>0</td>\n",
              "    </tr>\n",
              "    <tr>\n",
              "      <th>2223</th>\n",
              "      <td>how political squabbles snowball it s become c...</td>\n",
              "      <td>0</td>\n",
              "      <td>0</td>\n",
              "      <td>1</td>\n",
              "      <td>0</td>\n",
              "      <td>0</td>\n",
              "    </tr>\n",
              "    <tr>\n",
              "      <th>2224</th>\n",
              "      <td>souness delight at euro progress boss graeme s...</td>\n",
              "      <td>0</td>\n",
              "      <td>0</td>\n",
              "      <td>0</td>\n",
              "      <td>1</td>\n",
              "      <td>0</td>\n",
              "    </tr>\n",
              "  </tbody>\n",
              "</table>\n",
              "<p>2225 rows × 6 columns</p>\n",
              "</div>"
            ],
            "text/plain": [
              "                                                   text  business  ...  sport  tech\n",
              "0     tv future in the hands of viewers with home th...         0  ...      0     1\n",
              "1     worldcom boss  left books alone  former worldc...         1  ...      0     0\n",
              "2     tigers wary of farrell  gamble  leicester say ...         0  ...      1     0\n",
              "3     yeading face newcastle in fa cup premiership s...         0  ...      1     0\n",
              "4     ocean s twelve raids box office ocean s twelve...         0  ...      0     0\n",
              "...                                                 ...       ...  ...    ...   ...\n",
              "2220  cars pull down us retail figures us retail sal...         1  ...      0     0\n",
              "2221  kilroy unveils immigration policy ex-chatshow ...         0  ...      0     0\n",
              "2222  rem announce new glasgow concert us band rem h...         0  ...      0     0\n",
              "2223  how political squabbles snowball it s become c...         0  ...      0     0\n",
              "2224  souness delight at euro progress boss graeme s...         0  ...      1     0\n",
              "\n",
              "[2225 rows x 6 columns]"
            ]
          },
          "metadata": {
            "tags": []
          },
          "execution_count": 3
        }
      ]
    },
    {
      "cell_type": "markdown",
      "metadata": {
        "id": "fGZYcM2DVMQl",
        "colab_type": "text"
      },
      "source": [
        "Agar dapat diproses oleh model, kita perlu mengubah nilai-nilai dari dataframe ke dalam tipe data numpy array menggunakan atribut values."
      ]
    },
    {
      "cell_type": "code",
      "metadata": {
        "id": "6jy5cpclSSWE",
        "colab_type": "code",
        "colab": {}
      },
      "source": [
        "text = df_baru['text'].values\n",
        "label = df_baru[['business', 'entertainment', 'politics', 'sport', 'tech']].values"
      ],
      "execution_count": 4,
      "outputs": []
    },
    {
      "cell_type": "code",
      "metadata": {
        "id": "DRhbvfTnVKFT",
        "colab_type": "code",
        "colab": {}
      },
      "source": [
        "from sklearn.model_selection import train_test_split\n",
        "text_latih, text_test, label_latih, label_test = train_test_split(text, label, test_size=0.2)"
      ],
      "execution_count": 5,
      "outputs": []
    },
    {
      "cell_type": "code",
      "metadata": {
        "id": "x_PjRfyEVPYm",
        "colab_type": "code",
        "colab": {}
      },
      "source": [
        "from tensorflow.keras.preprocessing.text import Tokenizer\n",
        "from tensorflow.keras.preprocessing.sequence import pad_sequences\n",
        " \n",
        "tokenizer = Tokenizer(num_words=5000, oov_token='x')\n",
        "tokenizer.fit_on_texts(text_latih) \n",
        "tokenizer.fit_on_texts(text_test)\n",
        " \n",
        "sekuens_latih = tokenizer.texts_to_sequences(text_latih)\n",
        "sekuens_test = tokenizer.texts_to_sequences(text_test)\n",
        " \n",
        "padded_latih = pad_sequences(sekuens_latih)\n",
        "padded_test = pad_sequences(sekuens_test)"
      ],
      "execution_count": 6,
      "outputs": []
    },
    {
      "cell_type": "code",
      "metadata": {
        "id": "z-_8iTUOVSbE",
        "colab_type": "code",
        "colab": {}
      },
      "source": [
        "import tensorflow as tf\n",
        "model = tf.keras.Sequential([\n",
        "    tf.keras.layers.Embedding(input_dim=5000, output_dim=16),\n",
        "    tf.keras.layers.LSTM(64),\n",
        "    tf.keras.layers.Dense(128, activation='relu'),\n",
        "    tf.keras.layers.Dense(64, activation='relu'),\n",
        "    tf.keras.layers.Dense(5, activation='softmax')\n",
        "])\n",
        "model.compile(loss='categorical_crossentropy',optimizer='adam',metrics=['accuracy'])"
      ],
      "execution_count": 7,
      "outputs": []
    },
    {
      "cell_type": "code",
      "metadata": {
        "id": "1hB0vIw2VYz8",
        "colab_type": "code",
        "colab": {
          "base_uri": "https://localhost:8080/",
          "height": 1000
        },
        "outputId": "6a6db17e-9bf8-4db8-a447-9e0549a1a637"
      },
      "source": [
        "num_epochs = 30\n",
        "history = model.fit(padded_latih, label_latih, epochs=num_epochs, \n",
        "                    validation_data=(padded_test, label_test), verbose=2)"
      ],
      "execution_count": 8,
      "outputs": [
        {
          "output_type": "stream",
          "text": [
            "Epoch 1/30\n",
            "56/56 - 195s - loss: 1.6049 - accuracy: 0.2174 - val_loss: 1.5929 - val_accuracy: 0.1978\n",
            "Epoch 2/30\n",
            "56/56 - 196s - loss: 1.5279 - accuracy: 0.3494 - val_loss: 1.3886 - val_accuracy: 0.3708\n",
            "Epoch 3/30\n",
            "56/56 - 196s - loss: 0.9709 - accuracy: 0.5489 - val_loss: 0.9553 - val_accuracy: 0.6629\n",
            "Epoch 4/30\n",
            "56/56 - 196s - loss: 0.3879 - accuracy: 0.8730 - val_loss: 0.8581 - val_accuracy: 0.7348\n",
            "Epoch 5/30\n",
            "56/56 - 194s - loss: 0.1083 - accuracy: 0.9674 - val_loss: 0.7750 - val_accuracy: 0.8090\n",
            "Epoch 6/30\n",
            "56/56 - 188s - loss: 0.0260 - accuracy: 0.9938 - val_loss: 0.8400 - val_accuracy: 0.8112\n",
            "Epoch 7/30\n",
            "56/56 - 186s - loss: 0.0112 - accuracy: 0.9978 - val_loss: 0.9828 - val_accuracy: 0.7910\n",
            "Epoch 8/30\n",
            "56/56 - 186s - loss: 0.0101 - accuracy: 0.9983 - val_loss: 0.9264 - val_accuracy: 0.8135\n",
            "Epoch 9/30\n",
            "56/56 - 186s - loss: 0.0337 - accuracy: 0.9910 - val_loss: 1.0860 - val_accuracy: 0.7865\n",
            "Epoch 10/30\n",
            "56/56 - 186s - loss: 0.0084 - accuracy: 0.9983 - val_loss: 1.2545 - val_accuracy: 0.7730\n",
            "Epoch 11/30\n",
            "56/56 - 186s - loss: 0.0070 - accuracy: 0.9989 - val_loss: 1.1626 - val_accuracy: 0.8022\n",
            "Epoch 12/30\n",
            "56/56 - 188s - loss: 0.0011 - accuracy: 1.0000 - val_loss: 1.2448 - val_accuracy: 0.8022\n",
            "Epoch 13/30\n",
            "56/56 - 200s - loss: 2.3562e-04 - accuracy: 1.0000 - val_loss: 1.2340 - val_accuracy: 0.8135\n",
            "Epoch 14/30\n",
            "56/56 - 200s - loss: 1.7187e-04 - accuracy: 1.0000 - val_loss: 1.2295 - val_accuracy: 0.8202\n",
            "Epoch 15/30\n",
            "56/56 - 200s - loss: 1.3834e-04 - accuracy: 1.0000 - val_loss: 1.2279 - val_accuracy: 0.8225\n",
            "Epoch 16/30\n",
            "56/56 - 200s - loss: 1.1656e-04 - accuracy: 1.0000 - val_loss: 1.2287 - val_accuracy: 0.8270\n",
            "Epoch 17/30\n",
            "56/56 - 203s - loss: 1.0037e-04 - accuracy: 1.0000 - val_loss: 1.2309 - val_accuracy: 0.8270\n",
            "Epoch 18/30\n",
            "56/56 - 200s - loss: 8.8787e-05 - accuracy: 1.0000 - val_loss: 1.2331 - val_accuracy: 0.8270\n",
            "Epoch 19/30\n",
            "56/56 - 200s - loss: 7.9467e-05 - accuracy: 1.0000 - val_loss: 1.2356 - val_accuracy: 0.8247\n",
            "Epoch 20/30\n",
            "56/56 - 206s - loss: 7.0438e-05 - accuracy: 1.0000 - val_loss: 1.2368 - val_accuracy: 0.8247\n",
            "Epoch 21/30\n",
            "56/56 - 202s - loss: 6.3695e-05 - accuracy: 1.0000 - val_loss: 1.2423 - val_accuracy: 0.8247\n",
            "Epoch 22/30\n",
            "56/56 - 199s - loss: 5.7912e-05 - accuracy: 1.0000 - val_loss: 1.2434 - val_accuracy: 0.8247\n",
            "Epoch 23/30\n",
            "56/56 - 206s - loss: 5.3282e-05 - accuracy: 1.0000 - val_loss: 1.2491 - val_accuracy: 0.8247\n",
            "Epoch 24/30\n",
            "56/56 - 199s - loss: 4.8819e-05 - accuracy: 1.0000 - val_loss: 1.2496 - val_accuracy: 0.8247\n",
            "Epoch 25/30\n",
            "56/56 - 203s - loss: 4.5130e-05 - accuracy: 1.0000 - val_loss: 1.2531 - val_accuracy: 0.8270\n",
            "Epoch 26/30\n",
            "56/56 - 206s - loss: 4.1805e-05 - accuracy: 1.0000 - val_loss: 1.2554 - val_accuracy: 0.8292\n",
            "Epoch 27/30\n",
            "56/56 - 202s - loss: 3.8865e-05 - accuracy: 1.0000 - val_loss: 1.2572 - val_accuracy: 0.8292\n",
            "Epoch 28/30\n",
            "56/56 - 204s - loss: 3.6104e-05 - accuracy: 1.0000 - val_loss: 1.2596 - val_accuracy: 0.8315\n",
            "Epoch 29/30\n",
            "56/56 - 204s - loss: 3.3643e-05 - accuracy: 1.0000 - val_loss: 1.2607 - val_accuracy: 0.8315\n",
            "Epoch 30/30\n",
            "56/56 - 203s - loss: 3.1543e-05 - accuracy: 1.0000 - val_loss: 1.2652 - val_accuracy: 0.8315\n"
          ],
          "name": "stdout"
        }
      ]
    },
    {
      "cell_type": "code",
      "metadata": {
        "id": "ePm3qt9jVagU",
        "colab_type": "code",
        "colab": {
          "base_uri": "https://localhost:8080/",
          "height": 295
        },
        "outputId": "d269c4ee-12f4-4881-c635-6776c99d8562"
      },
      "source": [
        "import matplotlib.pyplot as plt\n",
        "plt.plot(history.history['accuracy'])\n",
        "plt.plot(history.history['val_accuracy'])\n",
        "plt.title('Akurasi Model')\n",
        "plt.ylabel('accuracy')\n",
        "plt.xlabel('epoch')\n",
        "plt.legend(['train', 'test'], loc='upper left')\n",
        "plt.show()"
      ],
      "execution_count": 9,
      "outputs": [
        {
          "output_type": "display_data",
          "data": {
            "image/png": "[encoded data removed]",
            "text/plain": [
              "<Figure size 432x288 with 1 Axes>"
            ]
          },
          "metadata": {
            "tags": [],
            "needs_background": "light"
          }
        }
      ]
    },
    {
      "cell_type": "code",
      "metadata": {
        "id": "lNjR6EzkyQn8",
        "colab_type": "code",
        "colab": {
          "base_uri": "https://localhost:8080/",
          "height": 295
        },
        "outputId": "98793930-895a-4317-d3fa-5d6aa9ceeec2"
      },
      "source": [
        "plt.plot(history.history['loss'])\n",
        "plt.plot(history.history['val_loss'])\n",
        "plt.title('Loss Model')\n",
        "plt.ylabel('loss')\n",
        "plt.xlabel('epoch')\n",
        "plt.legend(['train', 'test'], loc='upper left')\n",
        "plt.show()"
      ],
      "execution_count": 10,
      "outputs": [
        {
          "output_type": "display_data",
          "data": {
            "image/png": "[encoded data removed]",
            "text/plain": [
              "<Figure size 432x288 with 1 Axes>"
            ]
          },
          "metadata": {
            "tags": [],
            "needs_background": "light"
          }
        }
      ]
    },
    {
      "cell_type": "markdown",
      "metadata": {
        "id": "Sx-Zp6SgRLT6",
        "colab_type": "text"
      },
      "source": [
        "Epoch optimal harusnya 10 saja"
      ]
    }
  ]
}