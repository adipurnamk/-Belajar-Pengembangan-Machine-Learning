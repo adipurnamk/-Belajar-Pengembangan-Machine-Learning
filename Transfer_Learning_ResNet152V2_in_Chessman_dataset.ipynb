{
  "nbformat": 4,
  "nbformat_minor": 0,
  "metadata": {
    "colab": {
      "name": "Transfer Learning - ResNet152V2 in Chessman dataset.ipynb",
      "provenance": [],
      "authorship_tag": "ABX9TyNOA16HfoFMR9TO6zrBEKVY",
      "include_colab_link": true
    },
    "kernelspec": {
      "name": "python3",
      "display_name": "Python 3"
    }
  },
  "cells": [
    {
      "cell_type": "markdown",
      "metadata": {
        "id": "view-in-github",
        "colab_type": "text"
      },
      "source": [
        "<a href=\"https://colab.research.google.com/github/adipurnamk/Belajar-Pengembangan-Machine-Learning/blob/master/Transfer_Learning_ResNet152V2_in_Chessman_dataset.ipynb\" target=\"_parent\"><img src=\"https://colab.research.google.com/assets/colab-badge.svg\" alt=\"Open In Colab\"/></a>"
      ]
    },
    {
      "cell_type": "code",
      "metadata": {
        "id": "5yGPDCKP4sQE",
        "colab_type": "code",
        "colab": {
          "base_uri": "https://localhost:8080/",
          "height": 204
        },
        "outputId": "e16ed9d9-a1b6-407f-e097-911e80d625c3"
      },
      "source": [
        "! wget --no-check-certificate \\\n",
        "https://dicodingacademy.blob.core.windows.net/picodiploma/ml_pengembangan_academy/Chessman-image-dataset.zip \\\n",
        "-O /tmp/Chessman-image-dataset.zip"
      ],
      "execution_count": 3,
      "outputs": [
        {
          "output_type": "stream",
          "text": [
            "--2020-09-15 13:30:28--  https://dicodingacademy.blob.core.windows.net/picodiploma/ml_pengembangan_academy/Chessman-image-dataset.zip\n",
            "Resolving dicodingacademy.blob.core.windows.net (dicodingacademy.blob.core.windows.net)... 52.239.197.36\n",
            "Connecting to dicodingacademy.blob.core.windows.net (dicodingacademy.blob.core.windows.net)|52.239.197.36|:443... connected.\n",
            "HTTP request sent, awaiting response... 200 OK\n",
            "Length: 60684125 (58M) [application/zip]\n",
            "Saving to: ‘/tmp/Chessman-image-dataset.zip’\n",
            "\n",
            "/tmp/Chessman-image 100%[===================>]  57.87M  21.8MB/s    in 2.7s    \n",
            "\n",
            "2020-09-15 13:30:31 (21.8 MB/s) - ‘/tmp/Chessman-image-dataset.zip’ saved [60684125/60684125]\n",
            "\n"
          ],
          "name": "stdout"
        }
      ]
    },
    {
      "cell_type": "code",
      "metadata": {
        "id": "95zN4_255EQm",
        "colab_type": "code",
        "colab": {}
      },
      "source": [
        "import os\n",
        "import zipfile\n",
        "from tensorflow.keras.preprocessing.image import ImageDataGenerator\n",
        "local_zip = '/tmp/Chessman-image-dataset.zip'\n",
        "zip_ref = zipfile.ZipFile(local_zip, 'r')\n",
        "zip_ref.extractall('/tmp')\n",
        "zip_ref.close()\n",
        "train_dir = os.path.join('/tmp/Chessman-image-dataset/Chess')\n",
        "train_datagen = ImageDataGenerator(rescale=1./255,\n",
        "    rotation_range=20,\n",
        "    zoom_range=0.2,\n",
        "    shear_range=0.2,\n",
        "    fill_mode = 'nearest',\n",
        "    validation_split=0.1) # set validation split"
      ],
      "execution_count": 4,
      "outputs": []
    },
    {
      "cell_type": "code",
      "metadata": {
        "id": "nS-M4Bj49sYe",
        "colab_type": "code",
        "colab": {
          "base_uri": "https://localhost:8080/",
          "height": 51
        },
        "outputId": "80e3f2e4-52c2-4225-b968-eadefac9d954"
      },
      "source": [
        "train_generator = train_datagen.flow_from_directory(\n",
        "    train_dir,\n",
        "    target_size=(150, 150),\n",
        "    batch_size=8,\n",
        "    class_mode='categorical',\n",
        "    subset='training') # set as training data\n",
        "validation_generator = train_datagen.flow_from_directory(\n",
        "    train_dir, # same directory as training data\n",
        "    target_size=(150, 150),\n",
        "    batch_size=16,\n",
        "    class_mode='categorical',\n",
        "    subset='validation')"
      ],
      "execution_count": 5,
      "outputs": [
        {
          "output_type": "stream",
          "text": [
            "Found 499 images belonging to 6 classes.\n",
            "Found 52 images belonging to 6 classes.\n"
          ],
          "name": "stdout"
        }
      ]
    },
    {
      "cell_type": "code",
      "metadata": {
        "id": "a4N1Wo5Y-HmP",
        "colab_type": "code",
        "colab": {
          "base_uri": "https://localhost:8080/",
          "height": 51
        },
        "outputId": "359dae8f-f114-4bbc-c76e-b358890d9687"
      },
      "source": [
        "import tensorflow as tf\n",
        "from tensorflow.keras.layers import Input\n",
        "from tensorflow.keras.applications import ResNet50\n",
        "from tensorflow.keras.applications import ResNet152V2\n",
        "model = tf.keras.models.Sequential([\n",
        "    ResNet152V2(weights=\"imagenet\", include_top=False, input_tensor=Input(shape=(150, 150, 3))),\n",
        "    # tf.keras.layers.Dropout(0.4),\n",
        "    tf.keras.layers.Flatten(), \n",
        "    tf.keras.layers.Dense(512, activation='relu'),\n",
        "    tf.keras.layers.Dense(256, activation='relu'),\n",
        "    tf.keras.layers.Dense(6, activation='softmax')  \n",
        "])\n",
        "model.layers[0].trainable = False"
      ],
      "execution_count": 6,
      "outputs": [
        {
          "output_type": "stream",
          "text": [
            "Downloading data from https://storage.googleapis.com/tensorflow/keras-applications/resnet/resnet152v2_weights_tf_dim_ordering_tf_kernels_notop.h5\n",
            "234553344/234545216 [==============================] - 3s 0us/step\n"
          ],
          "name": "stdout"
        }
      ]
    },
    {
      "cell_type": "code",
      "metadata": {
        "id": "dKSELsK3-IQl",
        "colab_type": "code",
        "colab": {}
      },
      "source": [
        "model.compile(optimizer=tf.optimizers.Adam(),\n",
        "              loss='categorical_crossentropy',\n",
        "              metrics = ['accuracy'])"
      ],
      "execution_count": 7,
      "outputs": []
    },
    {
      "cell_type": "code",
      "metadata": {
        "id": "kynm8kgA-LRV",
        "colab_type": "code",
        "colab": {
          "base_uri": "https://localhost:8080/",
          "height": 612
        },
        "outputId": "f2c6ced3-e911-4231-9f31-814d281bec10"
      },
      "source": [
        "history = model.fit(train_generator,\n",
        "                              validation_data=validation_generator,\n",
        "                              epochs=50,\n",
        "                              verbose=2)\n"
      ],
      "execution_count": null,
      "outputs": [
        {
          "output_type": "stream",
          "text": [
            "Epoch 1/50\n",
            "63/63 - 123s - loss: 9.6522 - accuracy: 0.4168 - val_loss: 3.4648 - val_accuracy: 0.5769\n",
            "Epoch 2/50\n",
            "63/63 - 119s - loss: 1.8234 - accuracy: 0.6854 - val_loss: 1.5350 - val_accuracy: 0.7308\n",
            "Epoch 3/50\n",
            "63/63 - 120s - loss: 1.1642 - accuracy: 0.7295 - val_loss: 1.6018 - val_accuracy: 0.6346\n",
            "Epoch 4/50\n",
            "63/63 - 120s - loss: 0.9689 - accuracy: 0.7936 - val_loss: 0.9712 - val_accuracy: 0.7692\n",
            "Epoch 5/50\n",
            "63/63 - 120s - loss: 0.5623 - accuracy: 0.8216 - val_loss: 1.0144 - val_accuracy: 0.7500\n",
            "Epoch 6/50\n",
            "63/63 - 120s - loss: 0.4936 - accuracy: 0.8758 - val_loss: 1.2129 - val_accuracy: 0.7115\n",
            "Epoch 7/50\n",
            "63/63 - 119s - loss: 0.5651 - accuracy: 0.8517 - val_loss: 2.0629 - val_accuracy: 0.7692\n",
            "Epoch 8/50\n",
            "63/63 - 118s - loss: 0.7153 - accuracy: 0.8397 - val_loss: 1.2273 - val_accuracy: 0.7115\n",
            "Epoch 9/50\n",
            "63/63 - 119s - loss: 0.6115 - accuracy: 0.8657 - val_loss: 1.2934 - val_accuracy: 0.6731\n",
            "Epoch 10/50\n",
            "63/63 - 120s - loss: 0.4949 - accuracy: 0.8958 - val_loss: 0.8172 - val_accuracy: 0.7885\n",
            "Epoch 11/50\n",
            "63/63 - 119s - loss: 0.4299 - accuracy: 0.9138 - val_loss: 2.2753 - val_accuracy: 0.6923\n",
            "Epoch 12/50\n",
            "63/63 - 118s - loss: 0.5750 - accuracy: 0.8697 - val_loss: 0.8926 - val_accuracy: 0.7885\n",
            "Epoch 13/50\n",
            "63/63 - 119s - loss: 0.3018 - accuracy: 0.9138 - val_loss: 0.6927 - val_accuracy: 0.8269\n",
            "Epoch 14/50\n",
            "63/63 - 117s - loss: 0.4610 - accuracy: 0.8898 - val_loss: 1.1289 - val_accuracy: 0.7885\n",
            "Epoch 15/50\n",
            "63/63 - 117s - loss: 0.4491 - accuracy: 0.8938 - val_loss: 0.5596 - val_accuracy: 0.8269\n",
            "Epoch 16/50\n",
            "63/63 - 118s - loss: 0.5356 - accuracy: 0.8958 - val_loss: 1.2916 - val_accuracy: 0.7692\n",
            "Epoch 17/50\n",
            "63/63 - 117s - loss: 0.7428 - accuracy: 0.8717 - val_loss: 4.1030 - val_accuracy: 0.5385\n",
            "Epoch 18/50\n"
          ],
          "name": "stdout"
        }
      ]
    },
    {
      "cell_type": "code",
      "metadata": {
        "id": "MIWJ0tWi6DgE",
        "colab_type": "code",
        "colab": {}
      },
      "source": [
        "import matplotlib.pyplot as plt\n",
        "plt.plot(history.history['accuracy'])\n",
        "plt.plot(history.history['val_accuracy'])\n",
        "plt.title('Akurasi Model')\n",
        "plt.ylabel('accuracy')\n",
        "plt.xlabel('epoch')\n",
        "plt.legend(['train', 'test'], loc='upper left')\n",
        "plt.show()"
      ],
      "execution_count": null,
      "outputs": []
    },
    {
      "cell_type": "code",
      "metadata": {
        "id": "rhzJyJla6XqU",
        "colab_type": "code",
        "colab": {}
      },
      "source": [
        "plt.plot(history.history['loss'])\n",
        "plt.plot(history.history['val_loss'])\n",
        "plt.title('Loss Model')\n",
        "plt.ylabel('loss')\n",
        "plt.xlabel('epoch')\n",
        "plt.legend(['train', 'test'], loc='upper left')\n",
        "plt.show()"
      ],
      "execution_count": null,
      "outputs": []
    }
  ]
}